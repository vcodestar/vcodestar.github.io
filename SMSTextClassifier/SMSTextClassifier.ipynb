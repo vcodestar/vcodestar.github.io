{
 "cells": [
  {
   "cell_type": "code",
   "execution_count": 8,
   "id": "d8205ebe",
   "metadata": {},
   "outputs": [
    {
     "name": "stdout",
     "output_type": "stream",
     "text": [
      "Defaulting to user installation because normal site-packages is not writeable\n",
      "Requirement already satisfied: tf-nightly in c:\\users\\admin\\appdata\\roaming\\python\\python311\\site-packages (2.18.0.dev20240805)\n",
      "Requirement already satisfied: tf-nightly-intel==2.18.0-dev20240805 in c:\\users\\admin\\appdata\\roaming\\python\\python311\\site-packages (from tf-nightly) (2.18.0.dev20240805)\n",
      "Requirement already satisfied: absl-py>=1.0.0 in c:\\users\\admin\\appdata\\roaming\\python\\python311\\site-packages (from tf-nightly-intel==2.18.0-dev20240805->tf-nightly) (2.1.0)\n",
      "Requirement already satisfied: astunparse>=1.6.0 in c:\\users\\admin\\appdata\\roaming\\python\\python311\\site-packages (from tf-nightly-intel==2.18.0-dev20240805->tf-nightly) (1.6.3)\n",
      "Requirement already satisfied: flatbuffers>=24.3.25 in c:\\users\\admin\\appdata\\roaming\\python\\python311\\site-packages (from tf-nightly-intel==2.18.0-dev20240805->tf-nightly) (24.3.25)\n",
      "Requirement already satisfied: gast!=0.5.0,!=0.5.1,!=0.5.2,>=0.2.1 in c:\\users\\admin\\appdata\\roaming\\python\\python311\\site-packages (from tf-nightly-intel==2.18.0-dev20240805->tf-nightly) (0.6.0)\n",
      "Requirement already satisfied: google-pasta>=0.1.1 in c:\\users\\admin\\appdata\\roaming\\python\\python311\\site-packages (from tf-nightly-intel==2.18.0-dev20240805->tf-nightly) (0.2.0)\n",
      "Requirement already satisfied: h5py>=3.10.0 in c:\\users\\admin\\appdata\\roaming\\python\\python311\\site-packages (from tf-nightly-intel==2.18.0-dev20240805->tf-nightly) (3.11.0)\n",
      "Requirement already satisfied: libclang>=13.0.0 in c:\\users\\admin\\appdata\\roaming\\python\\python311\\site-packages (from tf-nightly-intel==2.18.0-dev20240805->tf-nightly) (18.1.1)\n",
      "Requirement already satisfied: ml-dtypes<0.5.0,>=0.3.1 in c:\\users\\admin\\appdata\\roaming\\python\\python311\\site-packages (from tf-nightly-intel==2.18.0-dev20240805->tf-nightly) (0.4.0)\n",
      "Requirement already satisfied: opt-einsum>=2.3.2 in c:\\users\\admin\\appdata\\roaming\\python\\python311\\site-packages (from tf-nightly-intel==2.18.0-dev20240805->tf-nightly) (3.3.0)\n",
      "Requirement already satisfied: packaging in c:\\programdata\\anaconda3\\lib\\site-packages (from tf-nightly-intel==2.18.0-dev20240805->tf-nightly) (23.1)\n",
      "Requirement already satisfied: protobuf!=4.21.0,!=4.21.1,!=4.21.2,!=4.21.3,!=4.21.4,!=4.21.5,<5.0.0dev,>=3.20.3 in c:\\users\\admin\\appdata\\roaming\\python\\python311\\site-packages (from tf-nightly-intel==2.18.0-dev20240805->tf-nightly) (4.25.4)\n",
      "Requirement already satisfied: requests<3,>=2.21.0 in c:\\programdata\\anaconda3\\lib\\site-packages (from tf-nightly-intel==2.18.0-dev20240805->tf-nightly) (2.31.0)\n",
      "Requirement already satisfied: setuptools in c:\\programdata\\anaconda3\\lib\\site-packages (from tf-nightly-intel==2.18.0-dev20240805->tf-nightly) (68.0.0)\n",
      "Requirement already satisfied: six>=1.12.0 in c:\\programdata\\anaconda3\\lib\\site-packages (from tf-nightly-intel==2.18.0-dev20240805->tf-nightly) (1.16.0)\n",
      "Requirement already satisfied: termcolor>=1.1.0 in c:\\users\\admin\\appdata\\roaming\\python\\python311\\site-packages (from tf-nightly-intel==2.18.0-dev20240805->tf-nightly) (2.4.0)\n",
      "Requirement already satisfied: typing-extensions>=3.6.6 in c:\\programdata\\anaconda3\\lib\\site-packages (from tf-nightly-intel==2.18.0-dev20240805->tf-nightly) (4.7.1)\n",
      "Requirement already satisfied: wrapt>=1.11.0 in c:\\programdata\\anaconda3\\lib\\site-packages (from tf-nightly-intel==2.18.0-dev20240805->tf-nightly) (1.14.1)\n",
      "Requirement already satisfied: grpcio<2.0,>=1.24.3 in c:\\users\\admin\\appdata\\roaming\\python\\python311\\site-packages (from tf-nightly-intel==2.18.0-dev20240805->tf-nightly) (1.65.4)\n",
      "Requirement already satisfied: tb-nightly~=2.18.0.a in c:\\users\\admin\\appdata\\roaming\\python\\python311\\site-packages (from tf-nightly-intel==2.18.0-dev20240805->tf-nightly) (2.18.0a20240804)\n",
      "Requirement already satisfied: keras-nightly>=3.2.0.dev in c:\\users\\admin\\appdata\\roaming\\python\\python311\\site-packages (from tf-nightly-intel==2.18.0-dev20240805->tf-nightly) (3.4.1.dev2024080503)\n",
      "Requirement already satisfied: tensorflow-io-gcs-filesystem>=0.23.1 in c:\\users\\admin\\appdata\\roaming\\python\\python311\\site-packages (from tf-nightly-intel==2.18.0-dev20240805->tf-nightly) (0.31.0)\n",
      "Requirement already satisfied: numpy<2.0.0,>=1.23.5 in c:\\programdata\\anaconda3\\lib\\site-packages (from tf-nightly-intel==2.18.0-dev20240805->tf-nightly) (1.24.3)\n",
      "Requirement already satisfied: wheel<1.0,>=0.23.0 in c:\\programdata\\anaconda3\\lib\\site-packages (from astunparse>=1.6.0->tf-nightly-intel==2.18.0-dev20240805->tf-nightly) (0.38.4)\n",
      "Requirement already satisfied: rich in c:\\users\\admin\\appdata\\roaming\\python\\python311\\site-packages (from keras-nightly>=3.2.0.dev->tf-nightly-intel==2.18.0-dev20240805->tf-nightly) (13.7.1)\n",
      "Requirement already satisfied: namex in c:\\users\\admin\\appdata\\roaming\\python\\python311\\site-packages (from keras-nightly>=3.2.0.dev->tf-nightly-intel==2.18.0-dev20240805->tf-nightly) (0.0.8)\n",
      "Requirement already satisfied: optree in c:\\users\\admin\\appdata\\roaming\\python\\python311\\site-packages (from keras-nightly>=3.2.0.dev->tf-nightly-intel==2.18.0-dev20240805->tf-nightly) (0.12.1)\n",
      "Requirement already satisfied: charset-normalizer<4,>=2 in c:\\programdata\\anaconda3\\lib\\site-packages (from requests<3,>=2.21.0->tf-nightly-intel==2.18.0-dev20240805->tf-nightly) (2.0.4)\n",
      "Requirement already satisfied: idna<4,>=2.5 in c:\\programdata\\anaconda3\\lib\\site-packages (from requests<3,>=2.21.0->tf-nightly-intel==2.18.0-dev20240805->tf-nightly) (3.4)\n",
      "Requirement already satisfied: urllib3<3,>=1.21.1 in c:\\programdata\\anaconda3\\lib\\site-packages (from requests<3,>=2.21.0->tf-nightly-intel==2.18.0-dev20240805->tf-nightly) (1.26.16)\n",
      "Requirement already satisfied: certifi>=2017.4.17 in c:\\programdata\\anaconda3\\lib\\site-packages (from requests<3,>=2.21.0->tf-nightly-intel==2.18.0-dev20240805->tf-nightly) (2023.7.22)\n",
      "Requirement already satisfied: markdown>=2.6.8 in c:\\programdata\\anaconda3\\lib\\site-packages (from tb-nightly~=2.18.0.a->tf-nightly-intel==2.18.0-dev20240805->tf-nightly) (3.4.1)\n",
      "Requirement already satisfied: tensorboard-data-server<0.8.0,>=0.7.0 in c:\\users\\admin\\appdata\\roaming\\python\\python311\\site-packages (from tb-nightly~=2.18.0.a->tf-nightly-intel==2.18.0-dev20240805->tf-nightly) (0.7.2)\n",
      "Requirement already satisfied: werkzeug>=1.0.1 in c:\\programdata\\anaconda3\\lib\\site-packages (from tb-nightly~=2.18.0.a->tf-nightly-intel==2.18.0-dev20240805->tf-nightly) (2.2.3)\n",
      "Requirement already satisfied: MarkupSafe>=2.1.1 in c:\\programdata\\anaconda3\\lib\\site-packages (from werkzeug>=1.0.1->tb-nightly~=2.18.0.a->tf-nightly-intel==2.18.0-dev20240805->tf-nightly) (2.1.1)\n",
      "Requirement already satisfied: markdown-it-py>=2.2.0 in c:\\programdata\\anaconda3\\lib\\site-packages (from rich->keras-nightly>=3.2.0.dev->tf-nightly-intel==2.18.0-dev20240805->tf-nightly) (2.2.0)\n",
      "Requirement already satisfied: pygments<3.0.0,>=2.13.0 in c:\\programdata\\anaconda3\\lib\\site-packages (from rich->keras-nightly>=3.2.0.dev->tf-nightly-intel==2.18.0-dev20240805->tf-nightly) (2.15.1)\n",
      "Requirement already satisfied: mdurl~=0.1 in c:\\programdata\\anaconda3\\lib\\site-packages (from markdown-it-py>=2.2.0->rich->keras-nightly>=3.2.0.dev->tf-nightly-intel==2.18.0-dev20240805->tf-nightly) (0.1.0)\n",
      "Defaulting to user installation because normal site-packages is not writeable\n",
      "Requirement already satisfied: tensorflow-datasets in c:\\users\\admin\\appdata\\roaming\\python\\python311\\site-packages (4.9.6)\n",
      "Requirement already satisfied: absl-py in c:\\users\\admin\\appdata\\roaming\\python\\python311\\site-packages (from tensorflow-datasets) (2.1.0)\n",
      "Requirement already satisfied: click in c:\\programdata\\anaconda3\\lib\\site-packages (from tensorflow-datasets) (8.0.4)\n",
      "Requirement already satisfied: dm-tree in c:\\users\\admin\\appdata\\roaming\\python\\python311\\site-packages (from tensorflow-datasets) (0.1.8)\n",
      "Requirement already satisfied: immutabledict in c:\\users\\admin\\appdata\\roaming\\python\\python311\\site-packages (from tensorflow-datasets) (4.2.0)\n",
      "Requirement already satisfied: numpy in c:\\programdata\\anaconda3\\lib\\site-packages (from tensorflow-datasets) (1.24.3)\n",
      "Requirement already satisfied: promise in c:\\users\\admin\\appdata\\roaming\\python\\python311\\site-packages (from tensorflow-datasets) (2.3)\n",
      "Requirement already satisfied: protobuf>=3.20 in c:\\users\\admin\\appdata\\roaming\\python\\python311\\site-packages (from tensorflow-datasets) (4.25.4)\n",
      "Requirement already satisfied: psutil in c:\\programdata\\anaconda3\\lib\\site-packages (from tensorflow-datasets) (5.9.0)\n",
      "Requirement already satisfied: pyarrow in c:\\programdata\\anaconda3\\lib\\site-packages (from tensorflow-datasets) (11.0.0)\n",
      "Requirement already satisfied: requests>=2.19.0 in c:\\programdata\\anaconda3\\lib\\site-packages (from tensorflow-datasets) (2.31.0)\n",
      "Requirement already satisfied: simple-parsing in c:\\users\\admin\\appdata\\roaming\\python\\python311\\site-packages (from tensorflow-datasets) (0.1.5)\n",
      "Requirement already satisfied: tensorflow-metadata in c:\\users\\admin\\appdata\\roaming\\python\\python311\\site-packages (from tensorflow-datasets) (1.15.0)\n",
      "Requirement already satisfied: termcolor in c:\\users\\admin\\appdata\\roaming\\python\\python311\\site-packages (from tensorflow-datasets) (2.4.0)\n",
      "Requirement already satisfied: toml in c:\\programdata\\anaconda3\\lib\\site-packages (from tensorflow-datasets) (0.10.2)\n",
      "Requirement already satisfied: tqdm in c:\\programdata\\anaconda3\\lib\\site-packages (from tensorflow-datasets) (4.65.0)\n",
      "Requirement already satisfied: wrapt in c:\\programdata\\anaconda3\\lib\\site-packages (from tensorflow-datasets) (1.14.1)\n",
      "Requirement already satisfied: etils[enp,epath,epy,etree]>=1.9.1 in c:\\users\\admin\\appdata\\roaming\\python\\python311\\site-packages (from tensorflow-datasets) (1.9.2)\n",
      "Requirement already satisfied: fsspec in c:\\programdata\\anaconda3\\lib\\site-packages (from etils[enp,epath,epy,etree]>=1.9.1->tensorflow-datasets) (2023.4.0)\n",
      "Requirement already satisfied: importlib_resources in c:\\users\\admin\\appdata\\roaming\\python\\python311\\site-packages (from etils[enp,epath,epy,etree]>=1.9.1->tensorflow-datasets) (6.4.0)\n",
      "Requirement already satisfied: typing_extensions in c:\\programdata\\anaconda3\\lib\\site-packages (from etils[enp,epath,epy,etree]>=1.9.1->tensorflow-datasets) (4.7.1)\n",
      "Requirement already satisfied: zipp in c:\\programdata\\anaconda3\\lib\\site-packages (from etils[enp,epath,epy,etree]>=1.9.1->tensorflow-datasets) (3.11.0)\n",
      "Requirement already satisfied: charset-normalizer<4,>=2 in c:\\programdata\\anaconda3\\lib\\site-packages (from requests>=2.19.0->tensorflow-datasets) (2.0.4)\n",
      "Requirement already satisfied: idna<4,>=2.5 in c:\\programdata\\anaconda3\\lib\\site-packages (from requests>=2.19.0->tensorflow-datasets) (3.4)\n",
      "Requirement already satisfied: urllib3<3,>=1.21.1 in c:\\programdata\\anaconda3\\lib\\site-packages (from requests>=2.19.0->tensorflow-datasets) (1.26.16)\n",
      "Requirement already satisfied: certifi>=2017.4.17 in c:\\programdata\\anaconda3\\lib\\site-packages (from requests>=2.19.0->tensorflow-datasets) (2023.7.22)\n",
      "Requirement already satisfied: colorama in c:\\programdata\\anaconda3\\lib\\site-packages (from click->tensorflow-datasets) (0.4.6)\n",
      "Requirement already satisfied: six in c:\\programdata\\anaconda3\\lib\\site-packages (from promise->tensorflow-datasets) (1.16.0)\n",
      "Requirement already satisfied: docstring-parser~=0.15 in c:\\users\\admin\\appdata\\roaming\\python\\python311\\site-packages (from simple-parsing->tensorflow-datasets) (0.16)\n",
      "Requirement already satisfied: googleapis-common-protos<2,>=1.56.4 in c:\\users\\admin\\appdata\\roaming\\python\\python311\\site-packages (from tensorflow-metadata->tensorflow-datasets) (1.63.2)\n",
      "2.18.0-dev20240805\n"
     ]
    }
   ],
   "source": [
    "# import libraries\n",
    "try:\n",
    "  # %tensorflow_version only exists in Colab.\n",
    "  !pip install tf-nightly\n",
    "except Exception:\n",
    "  pass\n",
    "import tensorflow as tf\n",
    "import pandas as pd\n",
    "from tensorflow import keras\n",
    "!pip install tensorflow-datasets\n",
    "import tensorflow_datasets as tfds\n",
    "import numpy as np\n",
    "import matplotlib.pyplot as plt\n",
    "import requests\n",
    "from tensorflow.keras.preprocessing.text import Tokenizer\n",
    "from tensorflow.keras.preprocessing.sequence import pad_sequences\n",
    "from tensorflow.keras.callbacks import EarlyStopping\n",
    "from tensorflow.keras.layers import Embedding, LSTM, Bidirectional\n",
    "\n",
    "print(tf.__version__)"
   ]
  },
  {
   "cell_type": "code",
   "execution_count": 9,
   "id": "d68e3830",
   "metadata": {},
   "outputs": [
    {
     "name": "stdout",
     "output_type": "stream",
     "text": [
      "Downloaded train-data.tsv and valid-data.tsv\n"
     ]
    }
   ],
   "source": [
    "\n",
    "def download_file(url, local_filename):\n",
    "    with requests.get(url, stream=True) as r:\n",
    "        r.raise_for_status()\n",
    "        with open(local_filename, 'wb') as f:\n",
    "            for chunk in r.iter_content(chunk_size=8192):\n",
    "                f.write(chunk)\n",
    "    return local_filename\n",
    "\n",
    "train_url = \"https://cdn.freecodecamp.org/project-data/sms/train-data.tsv\"\n",
    "test_url = \"https://cdn.freecodecamp.org/project-data/sms/valid-data.tsv\"\n",
    "\n",
    "train_file_path = \"train-data.tsv\"\n",
    "test_file_path = \"valid-data.tsv\"\n",
    "\n",
    "download_file(train_url, train_file_path)\n",
    "download_file(test_url, test_file_path)\n",
    "\n",
    "print(f\"Downloaded {train_file_path} and {test_file_path}\")\n"
   ]
  },
  {
   "cell_type": "code",
   "execution_count": 10,
   "id": "658f71e0",
   "metadata": {},
   "outputs": [
    {
     "name": "stdout",
     "output_type": "stream",
     "text": [
      "NaN values in train labels: 0\n",
      "NaN values in test labels: 0\n"
     ]
    }
   ],
   "source": [
    "train_data = pd.read_csv(train_file_path, sep='\\t', header=None, names=['label', 'text'])\n",
    "test_data = pd.read_csv(test_file_path, sep='\\t', header=None, names=['label', 'text'])\n",
    "\n",
    "train_data['label'] = train_data['label'].map({'ham': 0, 'spam': 1})\n",
    "test_data['label'] = test_data['label'].map({'ham': 0, 'spam': 1})\n",
    "\n",
    "print(\"NaN values in train labels:\", train_data['label'].isna().sum())\n",
    "print(\"NaN values in test labels:\", test_data['label'].isna().sum())\n",
    "\n",
    "tokenizer = Tokenizer(num_words=10000, oov_token='<OOV>')\n",
    "tokenizer.fit_on_texts(train_data['text'])\n",
    "\n",
    "x_train = tokenizer.texts_to_sequences(train_data['text'])\n",
    "x_test = tokenizer.texts_to_sequences(test_data['text'])\n",
    "\n",
    "x_train = pad_sequences(x_train, padding='post', maxlen=100)\n",
    "x_test = pad_sequences(x_test, padding='post', maxlen=100)\n",
    "\n",
    "y_train = train_data['label'].values\n",
    "y_test = test_data['label'].values"
   ]
  },
  {
   "cell_type": "code",
   "execution_count": 12,
   "id": "ffe1e93e",
   "metadata": {},
   "outputs": [
    {
     "name": "stdout",
     "output_type": "stream",
     "text": [
      "Epoch 1/10\n",
      "\u001b[1m131/131\u001b[0m \u001b[32m━━━━━━━━━━━━━━━━━━━━\u001b[0m\u001b[37m\u001b[0m \u001b[1m7s\u001b[0m 37ms/step - accuracy: 0.8489 - loss: 1.9531\n",
      "Epoch 2/10\n",
      "\u001b[1m131/131\u001b[0m \u001b[32m━━━━━━━━━━━━━━━━━━━━\u001b[0m\u001b[37m\u001b[0m \u001b[1m5s\u001b[0m 37ms/step - accuracy: 0.9805 - loss: 0.2765\n",
      "Epoch 3/10\n",
      "\u001b[1m131/131\u001b[0m \u001b[32m━━━━━━━━━━━━━━━━━━━━\u001b[0m\u001b[37m\u001b[0m \u001b[1m5s\u001b[0m 37ms/step - accuracy: 0.9831 - loss: 0.1469\n",
      "Epoch 4/10\n",
      "\u001b[1m131/131\u001b[0m \u001b[32m━━━━━━━━━━━━━━━━━━━━\u001b[0m\u001b[37m\u001b[0m \u001b[1m5s\u001b[0m 36ms/step - accuracy: 0.9932 - loss: 0.0775\n",
      "Epoch 5/10\n",
      "\u001b[1m131/131\u001b[0m \u001b[32m━━━━━━━━━━━━━━━━━━━━\u001b[0m\u001b[37m\u001b[0m \u001b[1m5s\u001b[0m 36ms/step - accuracy: 0.9905 - loss: 0.0730\n",
      "Epoch 6/10\n",
      "\u001b[1m131/131\u001b[0m \u001b[32m━━━━━━━━━━━━━━━━━━━━\u001b[0m\u001b[37m\u001b[0m \u001b[1m5s\u001b[0m 36ms/step - accuracy: 0.9974 - loss: 0.0584\n",
      "Epoch 7/10\n",
      "\u001b[1m131/131\u001b[0m \u001b[32m━━━━━━━━━━━━━━━━━━━━\u001b[0m\u001b[37m\u001b[0m \u001b[1m5s\u001b[0m 37ms/step - accuracy: 0.9990 - loss: 0.0363\n",
      "Epoch 8/10\n",
      "\u001b[1m131/131\u001b[0m \u001b[32m━━━━━━━━━━━━━━━━━━━━\u001b[0m\u001b[37m\u001b[0m \u001b[1m5s\u001b[0m 36ms/step - accuracy: 0.9989 - loss: 0.0356\n",
      "Epoch 9/10\n",
      "\u001b[1m131/131\u001b[0m \u001b[32m━━━━━━━━━━━━━━━━━━━━\u001b[0m\u001b[37m\u001b[0m \u001b[1m5s\u001b[0m 37ms/step - accuracy: 0.9994 - loss: 0.0289\n",
      "Epoch 10/10\n",
      "\u001b[1m131/131\u001b[0m \u001b[32m━━━━━━━━━━━━━━━━━━━━\u001b[0m\u001b[37m\u001b[0m \u001b[1m5s\u001b[0m 36ms/step - accuracy: 0.9965 - loss: 0.0416\n",
      "---------------------------------\n",
      "\u001b[1m44/44\u001b[0m \u001b[32m━━━━━━━━━━━━━━━━━━━━\u001b[0m\u001b[37m\u001b[0m \u001b[1m1s\u001b[0m 11ms/step - accuracy: 0.9827 - loss: 0.1173\n",
      "Test Loss: 0.11725916713476181\n",
      "Test Accuracy: 0.9813218116760254\n"
     ]
    }
   ],
   "source": [
    "model = tf.keras.Sequential([\n",
    "    tf.keras.layers.Embedding(input_dim=10000, output_dim=128),\n",
    "    Bidirectional(LSTM(128, return_sequences=True)),\n",
    "    tf.keras.layers.GlobalMaxPooling1D(),\n",
    "    tf.keras.layers.Dense(128, activation='relu', kernel_regularizer=tf.keras.regularizers.l2(0.01)),\n",
    "    tf.keras.layers.Dropout(0.5),\n",
    "    tf.keras.layers.Dense(64, activation='relu', kernel_regularizer=tf.keras.regularizers.l2(0.01)),\n",
    "    tf.keras.layers.Dropout(0.5),\n",
    "    tf.keras.layers.Dense(1, activation='sigmoid')\n",
    "])\n",
    "\n",
    "\n",
    "model.compile(\n",
    "    optimizer='adam',\n",
    "    loss='binary_crossentropy',\n",
    "    metrics=['accuracy']\n",
    ")\n",
    "\n",
    "# Train the model\n",
    "model.fit(x_train, y_train, epochs=10)\n",
    "\n",
    "# Evaluate the model\n",
    "print(\"---------------------------------\")\n",
    "test_loss, test_accuracy = model.evaluate(x_test, y_test)\n",
    "print(f\"Test Loss: {test_loss}\")\n",
    "print(f\"Test Accuracy: {test_accuracy}\")"
   ]
  },
  {
   "cell_type": "code",
   "execution_count": 13,
   "id": "3bdc8a2d",
   "metadata": {},
   "outputs": [
    {
     "name": "stdout",
     "output_type": "stream",
     "text": [
      "\u001b[1m1/1\u001b[0m \u001b[32m━━━━━━━━━━━━━━━━━━━━\u001b[0m\u001b[37m\u001b[0m \u001b[1m0s\u001b[0m 177ms/step\n",
      "[0.001112144673243165, 'ham']\n"
     ]
    }
   ],
   "source": [
    "# function to predict messages based on model\n",
    "# (should return list containing prediction and label, ex. [0.008318834938108921, 'ham'])\n",
    "def predict_message(pred_text):\n",
    "\n",
    "    pred_sequence = tokenizer.texts_to_sequences([pred_text])\n",
    "    pred_padded = pad_sequences(pred_sequence, padding='post', maxlen=100)\n",
    "    prediction = model.predict(pred_padded)[0][0]  # Get the prediction probability\n",
    "    label = 'ham' if prediction < 0.5 else 'spam'\n",
    "\n",
    "    return [float(prediction), label]\n",
    "\n",
    "pred_text = \"how are you doing today?\"\n",
    "\n",
    "prediction = predict_message(pred_text)\n",
    "print(prediction)"
   ]
  },
  {
   "cell_type": "code",
   "execution_count": 14,
   "id": "cdcbf544",
   "metadata": {},
   "outputs": [
    {
     "name": "stdout",
     "output_type": "stream",
     "text": [
      "\u001b[1m1/1\u001b[0m \u001b[32m━━━━━━━━━━━━━━━━━━━━\u001b[0m\u001b[37m\u001b[0m \u001b[1m0s\u001b[0m 24ms/step\n",
      "\u001b[1m1/1\u001b[0m \u001b[32m━━━━━━━━━━━━━━━━━━━━\u001b[0m\u001b[37m\u001b[0m \u001b[1m0s\u001b[0m 24ms/step\n",
      "\u001b[1m1/1\u001b[0m \u001b[32m━━━━━━━━━━━━━━━━━━━━\u001b[0m\u001b[37m\u001b[0m \u001b[1m0s\u001b[0m 23ms/step\n",
      "\u001b[1m1/1\u001b[0m \u001b[32m━━━━━━━━━━━━━━━━━━━━\u001b[0m\u001b[37m\u001b[0m \u001b[1m0s\u001b[0m 17ms/step\n",
      "\u001b[1m1/1\u001b[0m \u001b[32m━━━━━━━━━━━━━━━━━━━━\u001b[0m\u001b[37m\u001b[0m \u001b[1m0s\u001b[0m 16ms/step\n",
      "\u001b[1m1/1\u001b[0m \u001b[32m━━━━━━━━━━━━━━━━━━━━\u001b[0m\u001b[37m\u001b[0m \u001b[1m0s\u001b[0m 17ms/step\n",
      "\u001b[1m1/1\u001b[0m \u001b[32m━━━━━━━━━━━━━━━━━━━━\u001b[0m\u001b[37m\u001b[0m \u001b[1m0s\u001b[0m 16ms/step\n",
      "You passed the challenge. Great job!\n"
     ]
    }
   ],
   "source": [
    "# Run this cell to test your function and model. Do not modify contents.\n",
    "def test_predictions():\n",
    "  test_messages = [\"how are you doing today\",\n",
    "                   \"sale today! to stop texts call 98912460324\",\n",
    "                   \"i dont want to go. can we try it a different day? available sat\",\n",
    "                   \"our new mobile video service is live. just install on your phone to start watching.\",\n",
    "                   \"you have won £1000 cash! call to claim your prize.\",\n",
    "                   \"i'll bring it tomorrow. don't forget the milk.\",\n",
    "                   \"wow, is your arm alright. that happened to me one time too\"\n",
    "                  ]\n",
    "\n",
    "  test_answers = [\"ham\", \"spam\", \"ham\", \"spam\", \"spam\", \"ham\", \"ham\"]\n",
    "  passed = True\n",
    "\n",
    "  for msg, ans in zip(test_messages, test_answers):\n",
    "    prediction = predict_message(msg)\n",
    "    if prediction[1] != ans:\n",
    "      print(\"false\")\n",
    "      print(prediction[0])\n",
    "      passed = False\n",
    "\n",
    "  if passed:\n",
    "    print(\"You passed the challenge. Great job!\")\n",
    "  else:\n",
    "    print(\"You haven't passed yet. Keep trying.\")\n",
    "\n",
    "test_predictions()"
   ]
  },
  {
   "cell_type": "code",
   "execution_count": null,
   "id": "3df9aead",
   "metadata": {},
   "outputs": [],
   "source": []
  }
 ],
 "metadata": {
  "kernelspec": {
   "display_name": "Python 3 (ipykernel)",
   "language": "python",
   "name": "python3"
  },
  "language_info": {
   "codemirror_mode": {
    "name": "ipython",
    "version": 3
   },
   "file_extension": ".py",
   "mimetype": "text/x-python",
   "name": "python",
   "nbconvert_exporter": "python",
   "pygments_lexer": "ipython3",
   "version": "3.11.5"
  }
 },
 "nbformat": 4,
 "nbformat_minor": 5
}
